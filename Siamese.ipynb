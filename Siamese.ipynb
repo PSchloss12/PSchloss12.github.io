{
  "nbformat": 4,
  "nbformat_minor": 0,
  "metadata": {
    "colab": {
      "provenance": [],
      "include_colab_link": true
    },
    "kernelspec": {
      "name": "python3",
      "display_name": "Python 3"
    },
    "language_info": {
      "name": "python"
    }
  },
  "cells": [
    {
      "cell_type": "markdown",
      "metadata": {
        "id": "view-in-github",
        "colab_type": "text"
      },
      "source": [
        "<a href=\"https://colab.research.google.com/github/PSchloss12/PSchloss12.github.io/blob/main/Siamese.ipynb\" target=\"_parent\"><img src=\"https://colab.research.google.com/assets/colab-badge.svg\" alt=\"Open In Colab\"/></a>"
      ]
    },
    {
      "cell_type": "code",
      "execution_count": null,
      "metadata": {
        "colab": {
          "base_uri": "https://localhost:8080/"
        },
        "id": "sdBmy7FiEMHP",
        "outputId": "08cf4c2d-f675-4ff1-9017-f75caa9de815"
      },
      "outputs": [
        {
          "output_type": "stream",
          "name": "stdout",
          "text": [
            "Drive already mounted at /content/drive; to attempt to forcibly remount, call drive.mount(\"/content/drive\", force_remount=True).\n"
          ]
        }
      ],
      "source": [
        "# Imports and Data\n",
        "import matplotlib.pyplot as plt # plotting\n",
        "import numpy as np # linear algebra\n",
        "import os # accessing directory structure\n",
        "import pandas as pd # data processing, CSV file I/O (e.g. pd.read_csv)\n",
        "import cv2\n",
        "from google.colab.patches import cv2_imshow\n",
        "from google.colab import drive\n",
        "drive.mount('/content/drive')\n",
        "\n",
        "# Patrick Source Drive Path\n",
        "source_path = \"/content/drive/MyDrive/Colab Notebooks/NNs/Handwriting Recognition\"\n",
        "# Evan Source Drive Path\n",
        "# source_path = \"/content/drive/Shared with Me/Handwriting Recognition\"\n"
      ]
    },
    {
      "cell_type": "code",
      "source": [
        "# Patrick Source Drive Path\n",
        "#source_path = \"/content/drive/MyDrive/Colab Notebooks/NNs/Handwriting Recognition\"\n",
        "# Evan Source Drive Path\n",
        "source_path = \"/content/drive/MyDrive/Handwriting Recognition\""
      ],
      "metadata": {
        "id": "ctZW0xAScLw5"
      },
      "execution_count": null,
      "outputs": []
    },
    {
      "cell_type": "code",
      "source": [
        "# Data Preprocessing\n",
        "def load_image(image_path):\n",
        "    src = cv2.imread(image_path)\n",
        "    print(src)\n",
        "    return src\n",
        "\n",
        "def convert_grayscale(image):\n",
        "    return cv2.cvtColor(image, cv2.COLOR_BGR2GRAY)\n",
        "\n",
        "def rgb2gray(rgb):\n",
        "    return np.dot(rgb[...,:3], [0.2989, 0.5870, 0.1140])\n",
        "\n",
        "def display_image(image):\n",
        "    cv2_imshow(image)\n",
        "\n",
        "def flip_vertical(image):\n",
        "    return cv2.flip(image, 0)\n",
        "\n",
        "def flip_vertical(image):\n",
        "    return cv2.flip(image, 0)\n",
        "\n",
        "\n",
        "raw_data_path = source_path + \"/signature_data_raw/\"\n",
        "forged_data = raw_data_path + \"forged/\"\n",
        "genuine_data = raw_data_path + \"genuine/\"\n",
        "\n",
        "for image_path in os.listdir(genuine_data):\n",
        "    img = load_image(image_path)\n",
        "    # img = rgb2gray(img)\n",
        "    # display_image(img)\n",
        "    break"
      ],
      "metadata": {
        "id": "5n2X-2T0FUyQ",
        "colab": {
          "base_uri": "https://localhost:8080/"
        },
        "outputId": "e632cd59-1415-4dcf-a1c9-2597a8aa7fc5"
      },
      "execution_count": null,
      "outputs": [
        {
          "output_type": "stream",
          "name": "stdout",
          "text": [
            "None\n"
          ]
        }
      ]
    },
    {
      "cell_type": "code",
      "source": [],
      "metadata": {
        "id": "cB5RIyW_eHY5"
      },
      "execution_count": null,
      "outputs": []
    }
  ]
}